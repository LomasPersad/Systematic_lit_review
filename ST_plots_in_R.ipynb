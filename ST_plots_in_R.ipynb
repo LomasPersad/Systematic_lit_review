{
  "nbformat": 4,
  "nbformat_minor": 0,
  "metadata": {
    "colab": {
      "provenance": []
    },
    "kernelspec": {
      "name": "ir",
      "display_name": "R"
    },
    "language_info": {
      "name": "R"
    }
  },
  "cells": [
    {
      "cell_type": "code",
      "source": [
        "install.packages(c(\"openxlsx\", \"dplyr\", \"tidyr\", \"ggpubr\", \"RColorBrewer\", \"cowplot\", \"stringr\", \"jsonlite\", \"grid\"))\n"
      ],
      "metadata": {
        "colab": {
          "base_uri": "https://localhost:8080/"
        },
        "id": "MGiJBLPI_A-e",
        "outputId": "1c8f3c9c-4c06-42b8-bc73-e132986cef6a"
      },
      "execution_count": null,
      "outputs": [
        {
          "output_type": "stream",
          "name": "stderr",
          "text": [
            "Installing packages into ‘/usr/local/lib/R/site-library’\n",
            "(as ‘lib’ is unspecified)\n",
            "\n",
            "Warning message:\n",
            "“package ‘grid’ is a base package, and should not be updated”\n",
            "also installing the dependencies ‘numDeriv’, ‘SparseM’, ‘MatrixModels’, ‘minqa’, ‘nloptr’, ‘RcppEigen’, ‘carData’, ‘abind’, ‘pbkrtest’, ‘quantreg’, ‘lme4’, ‘corrplot’, ‘car’, ‘Rcpp’, ‘ggrepel’, ‘ggsci’, ‘ggsignif’, ‘gridExtra’, ‘polynom’, ‘rstatix’\n",
            "\n",
            "\n"
          ]
        }
      ]
    },
    {
      "cell_type": "code",
      "execution_count": null,
      "metadata": {
        "id": "cBHwluD2-B8T"
      },
      "outputs": [],
      "source": [
        "library(dplyr)\n",
        "library(tidyr)\n",
        "library(openxlsx)\n",
        "# library(ggplot2)\n",
        "# library(plotly)\n",
        "library(ggpubr)\n",
        "library(RColorBrewer)\n",
        "# library(rcartocolor)\n",
        "library(cowplot)\n",
        "library(stringr)\n",
        "# library(webr)\n",
        "#read muscle information table\n",
        "# library(gt)\n",
        "library(jsonlite)\n",
        "library(\"grid\")\n",
        "library(readxl)"
      ]
    },
    {
      "cell_type": "code",
      "source": [
        "# Utility Functions\n",
        "saveFig <- function(fig,name,wdth,hght){\n",
        "  # Save final image\n",
        "  savename <- paste(name,\".png\",sep = '')\n",
        "  ggsave(filename = savename,\n",
        "       plot = fig,\n",
        "       width = wdth,\n",
        "       height = hght,\n",
        "       units = \"in\",\n",
        "       dpi = 300)\n",
        "\n",
        "}\n",
        "\n",
        "\n",
        "corrections <- function(df){\n",
        "  #this functions removes studies and rows\n",
        "\n",
        "  # Remove rows based on IDs\n",
        "df <- subset(df, !(CovidenceID == 4184))\n",
        "df <- subset(df, !(CovidenceID == 2679))\n",
        "  # Remove rows where ID is 2837 and CSA is 'ACSA'\n",
        "df <- subset(df, !(CovidenceID == 2837 & CSA == 'ACSA'))\n",
        "df <- subset(df, !(CovidenceID == 2995 & CSA == 'ACSA'))\n",
        "\n",
        "return (df)\n",
        "}\n",
        "\n",
        "#<---------------load and process paperstats - paperstats_r, paperstats_r_filtered\n",
        "\n",
        "loadPaperStats <- function(){\n",
        "  paperstats <- read.csv(\"Paperstats.csv\")\n",
        "  #remove mistakes\n",
        "  paperstats=corrections(paperstats)\n",
        "\n",
        "  # Select specific columns and rename them\n",
        "  paperstats_r <- paperstats %>%\n",
        "  select(CovidenceID = CovidenceID, aveAge = \"aveAge..years.\",aveHeight = \"aveHeight..cm.\",\n",
        "         aveWeight=\"aveWeight..kg.\",N=\"X.Number.of.subjects..N\",Muscle=Muscle,Type=Type,\n",
        "         Gender=Gender,CSA=CSA,Miscellaneous=Miscellaneous,volORstim=\"Voluntary..V..or.Stimulated..S..Force.measurement\",\n",
        "         combineTitle=\"Title_x\", studyID=\"Study.ID\", country=\"Country\", studyDesign=\"Study.design\", year=\"Year\",\n",
        "         journal=\"Journal\",aveST=\"aveST..N.cm2.\",musclename=\"name\")\n",
        "\n",
        "  # colnames(paperstats)\n",
        "\n",
        "  paperstats_r$journal <- as.factor(paperstats_r$journal)\n",
        "  paperstats_r$musclename <- as.factor(paperstats_r$musclename)\n",
        "\n",
        "\n",
        "  paperstats_r <- paperstats_r %>% drop_na(aveST) # remove muscles that had no ST vals\n",
        "  paperstats_r <- paperstats_r[!paperstats_r$Muscle == '', ] # remove empty muscle rows\n",
        "  # levels(paperstats_r$journal)[levels(paperstats_r$journal) == \"J Appl Physiol (1985)\"] <- \"J Appl Physiol\" # rename this journal\n",
        "  levels(paperstats_r$journal)[levels(paperstats_r$journal) == \"GNB\"] <- \"GNB2012 Conference\" # rename this journal\n",
        "  levels(paperstats_r$journal)[levels(paperstats_r$journal) == \"Journal of Applied Physiology\"] <- \"J Appl Physiol\" # rename this journal\n",
        "  levels(paperstats_r$journal)[levels(paperstats_r$journal) == \"The journal of physiology\"] <- \"J Physiol\" # rename this journal\n",
        "\n",
        "  levels(paperstats_r$country)[levels(paperstats_r$country) == \"UK\"] <- \"United Kingdom\"\n",
        "\n",
        "\n",
        "  #remove repeated to get proper paperstats\n",
        "  paperstats_r_filtered <- paperstats_r %>% distinct(`CovidenceID`, `Muscle`, .keep_all = TRUE)\n",
        "\n",
        "  # colnames(paperstats_r)\n",
        "\n",
        "  output<-list(paperstats_r,paperstats_r_filtered)\n",
        "  return(output)\n",
        "\n",
        "}\n",
        "\n",
        "# convert to just using one doc\n",
        "# test <- read_excel(\"./included/ST_review_ALLdata_Lomas_processed.csv\", sheet = \"Plotdata\")\n",
        "\n",
        "\n",
        "#<---------------nowload and process plotdata - data_r\n",
        "\n",
        "loadPlotdata <- function(){\n",
        "  data <- read.csv(\"Plotdata.csv\")\n",
        "\n",
        "  #remove mistakes\n",
        "  data=corrections(data)\n",
        "\n",
        "  # Select specific columns and rename them\n",
        "  data_r <- data %>%\n",
        "  select(CovidenceID = CovidenceID, aveAge = \"aveAge..years.\",aveHeight = \"aveHeight..cm.\",\n",
        "         aveWeight=\"aveWeight..kg.\",N=\"X.Number.of.subjects..N\",Muscle=Muscle,Type=Type,\n",
        "         Gender=Gender,CSA=CSA,Miscellaneous=Miscellaneous,aveVol=\"aveVol..cm3.\",\n",
        "         aveFL=\"aveFL..cm.\",avePCSA=\"avePCSA..cm2.\",aveTorque=\"aveTorque..Nm.\",\n",
        "         aveForce=\"aveForce..N.\",aveST=\"aveST..N.cm2.\", agetype=\"Age.type\", trainingtype=\"Training.type\", muscleName=\"name\",\n",
        "         jointType=\"Joint.type\", grav=\"antigrav.grav\", jointAction=\"Joint.action\", anatomicalLocation=\"anatomical.location\", FastSlow=\"fast.slow\", Score=\"Score\",mv_method=\"Muscle.volume.method\",fl_method=\"Fascicle.length.method\",pa_method=\"Pennation.angle.method\",t_method=\"Torque.method\", ma_method=\"Moment.arm.method\", pcsa_method=\"PCSA.method\", f_method=\"Force.method\")\n",
        "\n",
        "  data_r <- data_r %>% drop_na(aveST) # remove muscles that had no ST vals\n",
        "  # Define the order you want for the legend\n",
        "  desired_order <- c(\"CHD\", \"YNG\", \"MID\", \"OLD\")\n",
        "\n",
        "\n",
        "  # Convert to factors\n",
        "  data_r$Gender <- as.factor(data_r$Gender)\n",
        "  data_r$Muscle <- as.factor(data_r$Muscle)\n",
        "  data_r$agetype <- factor(data_r$agetype, levels = desired_order)\n",
        "  data_r$trainingtype <- as.factor(data_r$trainingtype)\n",
        "  data_r$muscleName <- as.factor(data_r$muscleName)\n",
        "  data_r$jointType <- as.factor(data_r$jointType)\n",
        "  data_r$jointAction <- as.factor(data_r$jointAction)\n",
        "  data_r$anatomicalLocation <- as.factor(data_r$anatomicalLocation)\n",
        "\n",
        "  # # Returns string without leading white space\n",
        "  # trim.leading <- function (x)  sub(\"^\\\\s+\", \"\", x)\n",
        "  #\n",
        "  # # Returns string without trailing white space\n",
        "  # trim.trailing <- function (x) sub(\"\\\\s+$\", \"\", x)\n",
        "  #\n",
        "  # # Returns string without leading or trailing white space\n",
        "  # trim <- function (x) gsub(\"^\\\\s+|\\\\s+$\", \"\", x)\n",
        "  #\n",
        "  # data_r$Gender <- trim(data_r$Gender)\n",
        "\n",
        "\n",
        "  levels(data_r$agetype)[levels(data_r$agetype) == \"CHD\"] <- \"Child (<18)\"\n",
        "  levels(data_r$agetype)[levels(data_r$agetype) == \"YNG\"] <- \"Young (18-34)\"\n",
        "  levels(data_r$agetype)[levels(data_r$agetype) == \"MID\"] <- \"Middle (35-65)\"\n",
        "  levels(data_r$agetype)[levels(data_r$agetype) == \"OLD\"] <- \"Old (>65)\"\n",
        "\n",
        "  data_r$trainingtype2 <- data_r$trainingtype\n",
        "\n",
        "  levels(data_r$trainingtype2)[levels(data_r$trainingtype2) == \"Untrained\"] <- \"Normal\"\n",
        "\n",
        "  levels(data_r$Gender)[levels(data_r$Gender) == \"M\"] <- \"Male\"\n",
        "  levels(data_r$Gender)[levels(data_r$Gender) == \"F\"] <- \"Female\"\n",
        "  levels(data_r$Gender)[levels(data_r$Gender) == \"B\"] <- \"Male\"\n",
        "  levels(data_r$Gender)[levels(data_r$Gender) == \"G\"] <- \"Female\"\n",
        "\n",
        "\n",
        "  levels(data_r$anatomicalLocation)[levels(data_r$anatomicalLocation) == \"Thigh\"] <- \"Upper leg\"\n",
        "\n",
        "\n",
        "  levels(data_r$jointAction)[levels(data_r$jointAction) == \"knee extensor\"] <- \"Knee Ext.\"\n",
        "  levels(data_r$jointAction)[levels(data_r$jointAction) == \"elbow extensor\"] <- \"Elbow Ext.\"\n",
        "  levels(data_r$jointAction)[levels(data_r$jointAction) == \"ankle plantar flexor\"] <- \"Plantarflex\"\n",
        "  levels(data_r$jointAction)[levels(data_r$jointAction) == \"elbow flexor\"] <- \"Elbow Flex.\"\n",
        "  levels(data_r$jointAction)[levels(data_r$jointAction) == \"ankle dorsiflexor\"] <- \"Dorsiflex\"\n",
        "  levels(data_r$jointAction)[levels(data_r$jointAction) == \"hip adductor\"] <- \"Hip Adduct.\"\n",
        "\n",
        "  data_r$mv_method[data_r$mv_method == \"\"] <- \"MV_none\"\n",
        "  data_r$fl_method[data_r$fl_method == \"\"] <- \"fl_none\"\n",
        "  data_r$pa_method[data_r$pa_method == \"\"] <- \"Pa_none\"\n",
        "  data_r$t_method[data_r$t_method == \"\"] <- \"Torq_none\"\n",
        "  data_r$ma_method[data_r$ma_method == \"\"] <- \"MA_none\"\n",
        "  data_r$pcsa_method[data_r$pcsa_method == \"\"] <- \"PCSA_none\"\n",
        "  data_r$f_method[data_r$f_method == \"\"] <- \"Force_none\"\n",
        "\n",
        "\n",
        "  #remove repeated to get proper paperstats\n",
        "  data_r_filtered <- data_r %>% distinct(`CovidenceID`, `Muscle`, .keep_all = TRUE)\n",
        "\n",
        "  # colnames(paperstats_r)\n",
        "\n",
        "  output<-list(data_r,data_r_filtered)\n",
        "\n",
        "  return(output)\n",
        "\n",
        "}\n",
        "\n",
        "\n",
        "\n",
        "result <- loadPaperStats()\n",
        "# Access the returned variables from the list\n",
        "paperstats_r <- result[[1]]\n",
        "# paperstats_r_filtered <-result[[2]]\n",
        "\n",
        "\n",
        "\n",
        "result2 <- loadPlotdata()\n",
        "# Access the returned variables from the list\n",
        "data_r <- result2[[1]]\n",
        "# data_r_filtered <-result2[[2]]\n",
        "\n",
        "\n",
        "\n",
        "# now join both data sets\n",
        "# colnames(data_r)\n",
        "\n",
        "#<-----------strict studystats vs muscle analysis\n",
        "# NB muscle rows are distinct. so can only aggregate variables related to distinct muscles. so age range cannot be coinsidered since those rows are removed\n",
        "\n",
        "# Join the data frames based on the 'ID' column\n",
        "# result_df <- paperstats_r_filtered %>%\n",
        "#   left_join(data_r_filtered, by = c(\"CovidenceID\",\"Muscle\")) %>%\n",
        "#   select(muscleName, jointType,jointAction,anatomicalLocation)\n",
        "\n",
        "\n",
        "result_df <- data_r %>%\n",
        "  select(muscleName, jointType,jointAction,anatomicalLocation)\n",
        "\n",
        "paperstats_r <- cbind(paperstats_r, result_df)\n",
        "\n",
        "# unique(data_r$jointAction)\n",
        "\n",
        "# unique(paperstats_r$journal)\n",
        "\n",
        "\n",
        "\n",
        "# data <- read.csv(\"./included/Plotdata.csv\")\n",
        "# colnames(data)\n",
        "#\n",
        "#\n",
        "#  mv_method=\"Muscle.volume.method\",fl_method=\"Fascicle.length.method\",pa_method-\"Pennation.angle.method\"\n",
        "#  t_method=\"Torque.method\", ma_method=\"Moment.arm.method\", pcsa_method=\"PCSA.method\", f_method=\"Force.method\"\n",
        "muscle_order <- c(\"Biceps Brachii\", \"Brachialis\", \"Brachioradialis\", \"Elbow Flexors\",\n",
        "                  \"Triceps Brachii\", \"Elbow Extendors\",\n",
        "                  \"Quadriceps Femoris\", \"Rectus Femoris\",\"Vastus Intermedius\", \"Vastus Medialis\", \"Vastus Lateralis\",\n",
        "                  \"Gracilis\",\n",
        "                  \"Plantar Flexors\",\"Soleus\",\"Gastrocnemius Lateralis\", \"Gastrocnemius Medialis\",\"Triceps Surae\",\"Dorsiflexor\", \"Tibialis Anterior\")\n",
        "\n",
        "custom_colors<-c('black','forestgreen', 'red2', 'orange', 'cornflowerblue',\n",
        "                'magenta', 'darkolivegreen4', 'indianred1', 'tan4', 'darkblue',\n",
        "                'mediumorchid1','firebrick4',  'yellowgreen', 'lightsalmon', 'tan3',\n",
        "                \"tan1\",'darkgray', 'wheat4', '#DDAD4B', 'chartreuse',\n",
        "                'seagreen1', 'moccasin', 'mediumvioletred', 'seagreen','cadetblue1',\n",
        "                \"darkolivegreen1\" ,\"tan2\" ,   \"tomato3\" , \"#7CE3D8\",\"gainsboro\")\n",
        "\n",
        "custom_colors <- c(brewer.pal(6, \"Set2\"),custom_colors)\n"
      ],
      "metadata": {
        "id": "tcZAWdKjColO"
      },
      "execution_count": null,
      "outputs": []
    },
    {
      "cell_type": "code",
      "source": [
        "muscle_order2 <- c(\"BIC\", \"BRA\", \"BRD\", \"EF\",\n",
        "                  \"TRI\", \"EE\",\n",
        "                  \"QF\", \"RF\",\"VI\", \"VM\", \"VL\",\n",
        "                  \"GRA\",\n",
        "                  \"PF\",\"SOL\",\"GL\", \"GM\",\"TS\",\"DF\", \"TA\")\n",
        "\n",
        "paperstats_r <- paperstats_r %>%\n",
        "  mutate(Muscle = factor(Muscle, levels = muscle_order2))"
      ],
      "metadata": {
        "id": "Q2NlLo71DOJK"
      },
      "execution_count": null,
      "outputs": []
    },
    {
      "cell_type": "markdown",
      "source": [
        "## add stats to boxplots"
      ],
      "metadata": {
        "id": "I_gZgd_ZOGfO"
      }
    },
    {
      "cell_type": "code",
      "source": [
        "plot_box_no_grps <- function(xcol,xlabel){\n",
        "   my_comparisons <- list( c(\"Male\", \"Female\") )\n",
        "\n",
        "\n",
        "  grp2 <- ggboxplot(data_r, x = xcol, y = \"aveST\",\n",
        "                palette =\"jco\",add = \"jitter\",\n",
        "                xlab = xlabel)+ stat_compare_means(comparisons = xcol)\n",
        "\n",
        "\n",
        " grp2 <- grp2+theme_pubr() + labs(y = expression(\"Specific tension \"~(N/cm^2)))+theme(axis.text = element_text(size = 12))\n",
        "\n",
        "\n",
        "\n",
        "   # stat_compare_means(comparisons = my_comparisons)+ # Add pairwise comparisons p-value\n",
        "  # stat_compare_means(label.y = 50)\n",
        "\n",
        " return (grp2)\n",
        "\n",
        "}\n",
        "\n",
        "data_r <- data_r %>%\n",
        "  mutate(anatomicalLocation = factor(anatomicalLocation, levels = c(\"Upper arm\",\"Upper leg\", \"Lower leg\")))\n",
        "\n",
        "data_r <- data_r %>%\n",
        "  mutate(jointAction = factor(jointAction, levels = c(\"Elbow Flex.\",\"Elbow Ext.\", \"Hip Adduct.\", \"Knee Ext.\", \"Plantarflex\", \"Dorsiflex\")))\n",
        "\n",
        "box1c <- plot_box_no_grps(\"anatomicalLocation\",\"Anatomical location\")+\n",
        "  theme(legend.position = \"none\")\n",
        "box2c <- plot_box_no_grps(\"jointAction\",\"Function\")\n",
        "box3c <- plot_box_no_grps(\"trainingtype\",\"Training status\")+\n",
        "  theme(legend.position = \"none\")\n",
        "box4c <- plot_box_no_grps(\"jointType\",\"Mono/Biarticular\")+\n",
        "  theme(legend.position = \"none\")\n",
        "box5c <- plot_box_no_grps(\"FastSlow\",\"Fiber type (Fast/Slow)\")+\n",
        "  theme(legend.position = \"none\")\n",
        "\n",
        "\n",
        "\n"
      ],
      "metadata": {
        "id": "h3NyBB--EWvg"
      },
      "execution_count": null,
      "outputs": []
    },
    {
      "cell_type": "code",
      "source": [
        "ggboxplot(data_r, x = \"anatomicalLocation\", y = \"aveST\",\n",
        "          palette = \"jco\", add = \"jitter\",\n",
        "          xlab = \"Anatomical location\") +\n",
        "  stat_compare_means(comparisons = list(c(\"Upper leg\", \"Lower leg\"), c(\"Upper arm\", \"Lower leg\")),\n",
        "                     ref.group = \".all.\",method = \"t.test\", label = \"p.\", map_signif_level=TRUE) +\n",
        "  theme_pubr()\n",
        "\n",
        "                  # stat_compare_means(method = \"t.test\", label = \"p.format\",map_signif_level=TRUE)\n",
        "\n",
        "\n",
        "    # stat_compare_means(ref.group = \".all.\",method = \"t.test\", label = \"p.format\", map_signif_level=TRUE)\n"
      ],
      "metadata": {
        "id": "1Q89QFLsEmv0"
      },
      "execution_count": null,
      "outputs": []
    },
    {
      "cell_type": "markdown",
      "source": [
        "## review scoring"
      ],
      "metadata": {
        "id": "I9P2mMq3OJPc"
      }
    },
    {
      "cell_type": "code",
      "source": [
        "scored_Data <- read.csv(\"Plotdata_scored.csv\")\n"
      ],
      "metadata": {
        "id": "7PJYm5ZuOVYT"
      },
      "execution_count": null,
      "outputs": []
    },
    {
      "cell_type": "code",
      "source": [
        "column_name_str <- \"\n",
        "         aveAge = 'aveAge..years.',\n",
        "         aveHeight = 'aveHeight..cm.',\n",
        "         aveWeight = 'aveWeight..kg.',\n",
        "         N = 'X.Number.of.subjects..N',\n",
        "         aveVol = 'aveVol..cm3.',\n",
        "         aveFL = 'aveFL..cm.',\n",
        "         avePCSA = 'avePCSA..cm2.',\n",
        "         aveTorque = 'aveTorque..Nm.',\n",
        "         aveForce = 'aveForce..N.',\n",
        "         aveST = 'aveST..N.cm2.',\n",
        "         agetype = 'Age.type',\n",
        "         trainingtype = 'Training.type',\n",
        "         muscleName = 'name',\n",
        "         jointType = 'Joint.type',\n",
        "         grav = 'antigrav.grav',\n",
        "         jointAction = 'Joint.action',\n",
        "         anatomicalLocation = 'anatomical.location',\n",
        "         FastSlow = 'fast.slow',\n",
        "         Score = 'Score',\n",
        "         mv_method = 'Muscle.volume.method',\n",
        "         fl_method = 'Fascicle.length.method',\n",
        "         pa_method = 'Pennation.angle.method',\n",
        "         t_method = 'Torque.method',\n",
        "         ma_method = 'Moment.arm.method',\n",
        "         pcsa_method = 'PCSA.method',\n",
        "         f_method = 'Force.method'\"\n",
        "\n",
        "# Convert the string to a named character vector\n",
        "column_names <- setNames(strsplit(gsub(\"'\", \"\", column_name_str), \",\\\\s*\")[[1]], NULL)\n",
        "\n",
        "# Change column names using a loop\n",
        "for (old_name in names(column_names)) {\n",
        "  colnames(scored_Data)[colnames(scored_Data) == old_name] <- column_names[old_name]\n",
        "}"
      ],
      "metadata": {
        "id": "8ifbJ8-UTr4f"
      },
      "execution_count": null,
      "outputs": []
    },
    {
      "cell_type": "code",
      "source": [
        "scored_Data <- scored_Data %>% distinct(`CovidenceID`, `newScore`, .keep_all = TRUE)"
      ],
      "metadata": {
        "id": "1QS6ArvwOLOo"
      },
      "execution_count": null,
      "outputs": []
    },
    {
      "cell_type": "code",
      "source": [
        "fig10complete <- ggplot(scored_Data, aes(x = 0, y = aveST)) +\n",
        "  geom_boxplot(outlier.shape = NA, width = 0.08) +\n",
        "  geom_jitter(aes(x = 0, y = aveST), width = 0.009, alpha = 0.5) +\n",
        "  stat_summary(aes(x = 0), fun = median, geom = \"point\", shape = 18, size = 3, color = \"red\") +\n",
        "  geom_text(data = scored_Data %>% group_by(newScore) %>% summarize(med_aveST = median(aveST)),\n",
        "            aes(x = 0, y = med_aveST, label = round(med_aveST, 2)),\n",
        "            vjust = -0.5, hjust = -0.2, size = 4, color = \"red\") +\n",
        "   ggtitle(\"Assumption Count\") +\n",
        "  facet_wrap(~Score, scales = \"fixed\", nrow = 1) + #labeller = as_labeller(facet_names)\n",
        "  theme_minimal() +\n",
        "  labs(y = expression(\"Specific tension \"~(N/cm^2))) +\n",
        "  theme(axis.title.x = element_blank(), axis.text.x = element_blank(), axis.ticks.x = element_blank())\n",
        "\n",
        "\n",
        " fig10complete\n",
        "#  saveFig(fig10complete,'assumption_count',6,9)"
      ],
      "metadata": {
        "id": "Bnz8F6lCOwUJ"
      },
      "execution_count": null,
      "outputs": []
    },
    {
      "cell_type": "code",
      "source": [
        "\n",
        "colnames(scored_Data)"
      ],
      "metadata": {
        "colab": {
          "base_uri": "https://localhost:8080/",
          "height": 225
        },
        "id": "bv_XOJKqSiOU",
        "outputId": "cb74c911-9936-435a-9656-664e67761a08"
      },
      "execution_count": null,
      "outputs": [
        {
          "output_type": "display_data",
          "data": {
            "text/html": [
              "<style>\n",
              ".list-inline {list-style: none; margin:0; padding: 0}\n",
              ".list-inline>li {display: inline-block}\n",
              ".list-inline>li:not(:last-child)::after {content: \"\\00b7\"; padding: 0 .5ex}\n",
              "</style>\n",
              "<ol class=list-inline><li>'CovidenceID'</li><li>'aveAge..years.'</li><li>'aveHeight..cm.'</li><li>'aveWeight..kg.'</li><li>'X.Number.of.subjects..N'</li><li>'Muscle'</li><li>'Type'</li><li>'Gender'</li><li>'Voluntary..V..or.Stimulated..S.'</li><li>'aveVol..cm3.'</li><li>'aveFL..cm.'</li><li>'avePCSA..cm2.'</li><li>'aveTorque..Nm.'</li><li>'aveForce..N.'</li><li>'aveST..N.cm2.'</li><li>'Muscle.volume.method'</li><li>'Fascicle.length.method'</li><li>'Pennation.angle.method'</li><li>'CSA'</li><li>'PCSA.method'</li><li>'Torque.method'</li><li>'Moment.arm.method'</li><li>'Force.method'</li><li>'Specific.Tension.method'</li><li>'Overall.note'</li><li>'Miscellaneous'</li><li>'Score'</li><li>'Age.type'</li><li>'Training.type'</li><li>'Muscle.1'</li><li>'name'</li><li>'fast.slow'</li><li>'Joint.type'</li><li>'antigrav.grav'</li><li>'Joint.action'</li><li>'secondary.joint.action'</li><li>'anatomical.location'</li><li>'Torque.Force.method'</li><li>'Muscle.volume.method_score'</li><li>'Torque.Force.method_score'</li><li>'Fascicle.length.method_score'</li><li>'Pennation.angle.method_score'</li><li>'PCSA.method_score'</li><li>'Moment.arm.method_score'</li><li>'Specific.Tension.method_score'</li><li>'newScore'</li><li>'Covidence..'</li><li>'Study.ID'</li><li>'Title_y'</li><li>'Country'</li><li>'Study.design'</li><li>'Authors'</li><li>'Year'</li><li>'Journal'</li><li>'aveAge'</li><li>'aveHeight'</li><li>'aveWeight'</li><li>'N'</li><li>'aveVol'</li><li>'aveFL'</li><li>'avePCSA'</li><li>'aveTorque'</li><li>'aveForce'</li><li>'aveST'</li><li>'agetype'</li><li>'trainingtype'</li><li>'muscleName'</li><li>'jointType'</li><li>'grav'</li><li>'jointAction'</li><li>'anatomicalLocation'</li><li>'FastSlow'</li><li>'mv_method'</li><li>'fl_method'</li><li>'pa_method'</li><li>'t_method'</li><li>'ma_method'</li><li>'pcsa_method'</li><li>'f_method'</li></ol>\n"
            ],
            "text/markdown": "1. 'CovidenceID'\n2. 'aveAge..years.'\n3. 'aveHeight..cm.'\n4. 'aveWeight..kg.'\n5. 'X.Number.of.subjects..N'\n6. 'Muscle'\n7. 'Type'\n8. 'Gender'\n9. 'Voluntary..V..or.Stimulated..S.'\n10. 'aveVol..cm3.'\n11. 'aveFL..cm.'\n12. 'avePCSA..cm2.'\n13. 'aveTorque..Nm.'\n14. 'aveForce..N.'\n15. 'aveST..N.cm2.'\n16. 'Muscle.volume.method'\n17. 'Fascicle.length.method'\n18. 'Pennation.angle.method'\n19. 'CSA'\n20. 'PCSA.method'\n21. 'Torque.method'\n22. 'Moment.arm.method'\n23. 'Force.method'\n24. 'Specific.Tension.method'\n25. 'Overall.note'\n26. 'Miscellaneous'\n27. 'Score'\n28. 'Age.type'\n29. 'Training.type'\n30. 'Muscle.1'\n31. 'name'\n32. 'fast.slow'\n33. 'Joint.type'\n34. 'antigrav.grav'\n35. 'Joint.action'\n36. 'secondary.joint.action'\n37. 'anatomical.location'\n38. 'Torque.Force.method'\n39. 'Muscle.volume.method_score'\n40. 'Torque.Force.method_score'\n41. 'Fascicle.length.method_score'\n42. 'Pennation.angle.method_score'\n43. 'PCSA.method_score'\n44. 'Moment.arm.method_score'\n45. 'Specific.Tension.method_score'\n46. 'newScore'\n47. 'Covidence..'\n48. 'Study.ID'\n49. 'Title_y'\n50. 'Country'\n51. 'Study.design'\n52. 'Authors'\n53. 'Year'\n54. 'Journal'\n55. 'aveAge'\n56. 'aveHeight'\n57. 'aveWeight'\n58. 'N'\n59. 'aveVol'\n60. 'aveFL'\n61. 'avePCSA'\n62. 'aveTorque'\n63. 'aveForce'\n64. 'aveST'\n65. 'agetype'\n66. 'trainingtype'\n67. 'muscleName'\n68. 'jointType'\n69. 'grav'\n70. 'jointAction'\n71. 'anatomicalLocation'\n72. 'FastSlow'\n73. 'mv_method'\n74. 'fl_method'\n75. 'pa_method'\n76. 't_method'\n77. 'ma_method'\n78. 'pcsa_method'\n79. 'f_method'\n\n\n",
            "text/latex": "\\begin{enumerate*}\n\\item 'CovidenceID'\n\\item 'aveAge..years.'\n\\item 'aveHeight..cm.'\n\\item 'aveWeight..kg.'\n\\item 'X.Number.of.subjects..N'\n\\item 'Muscle'\n\\item 'Type'\n\\item 'Gender'\n\\item 'Voluntary..V..or.Stimulated..S.'\n\\item 'aveVol..cm3.'\n\\item 'aveFL..cm.'\n\\item 'avePCSA..cm2.'\n\\item 'aveTorque..Nm.'\n\\item 'aveForce..N.'\n\\item 'aveST..N.cm2.'\n\\item 'Muscle.volume.method'\n\\item 'Fascicle.length.method'\n\\item 'Pennation.angle.method'\n\\item 'CSA'\n\\item 'PCSA.method'\n\\item 'Torque.method'\n\\item 'Moment.arm.method'\n\\item 'Force.method'\n\\item 'Specific.Tension.method'\n\\item 'Overall.note'\n\\item 'Miscellaneous'\n\\item 'Score'\n\\item 'Age.type'\n\\item 'Training.type'\n\\item 'Muscle.1'\n\\item 'name'\n\\item 'fast.slow'\n\\item 'Joint.type'\n\\item 'antigrav.grav'\n\\item 'Joint.action'\n\\item 'secondary.joint.action'\n\\item 'anatomical.location'\n\\item 'Torque.Force.method'\n\\item 'Muscle.volume.method\\_score'\n\\item 'Torque.Force.method\\_score'\n\\item 'Fascicle.length.method\\_score'\n\\item 'Pennation.angle.method\\_score'\n\\item 'PCSA.method\\_score'\n\\item 'Moment.arm.method\\_score'\n\\item 'Specific.Tension.method\\_score'\n\\item 'newScore'\n\\item 'Covidence..'\n\\item 'Study.ID'\n\\item 'Title\\_y'\n\\item 'Country'\n\\item 'Study.design'\n\\item 'Authors'\n\\item 'Year'\n\\item 'Journal'\n\\item 'aveAge'\n\\item 'aveHeight'\n\\item 'aveWeight'\n\\item 'N'\n\\item 'aveVol'\n\\item 'aveFL'\n\\item 'avePCSA'\n\\item 'aveTorque'\n\\item 'aveForce'\n\\item 'aveST'\n\\item 'agetype'\n\\item 'trainingtype'\n\\item 'muscleName'\n\\item 'jointType'\n\\item 'grav'\n\\item 'jointAction'\n\\item 'anatomicalLocation'\n\\item 'FastSlow'\n\\item 'mv\\_method'\n\\item 'fl\\_method'\n\\item 'pa\\_method'\n\\item 't\\_method'\n\\item 'ma\\_method'\n\\item 'pcsa\\_method'\n\\item 'f\\_method'\n\\end{enumerate*}\n",
            "text/plain": [
              " [1] \"CovidenceID\"                     \"aveAge..years.\"                 \n",
              " [3] \"aveHeight..cm.\"                  \"aveWeight..kg.\"                 \n",
              " [5] \"X.Number.of.subjects..N\"         \"Muscle\"                         \n",
              " [7] \"Type\"                            \"Gender\"                         \n",
              " [9] \"Voluntary..V..or.Stimulated..S.\" \"aveVol..cm3.\"                   \n",
              "[11] \"aveFL..cm.\"                      \"avePCSA..cm2.\"                  \n",
              "[13] \"aveTorque..Nm.\"                  \"aveForce..N.\"                   \n",
              "[15] \"aveST..N.cm2.\"                   \"Muscle.volume.method\"           \n",
              "[17] \"Fascicle.length.method\"          \"Pennation.angle.method\"         \n",
              "[19] \"CSA\"                             \"PCSA.method\"                    \n",
              "[21] \"Torque.method\"                   \"Moment.arm.method\"              \n",
              "[23] \"Force.method\"                    \"Specific.Tension.method\"        \n",
              "[25] \"Overall.note\"                    \"Miscellaneous\"                  \n",
              "[27] \"Score\"                           \"Age.type\"                       \n",
              "[29] \"Training.type\"                   \"Muscle.1\"                       \n",
              "[31] \"name\"                            \"fast.slow\"                      \n",
              "[33] \"Joint.type\"                      \"antigrav.grav\"                  \n",
              "[35] \"Joint.action\"                    \"secondary.joint.action\"         \n",
              "[37] \"anatomical.location\"             \"Torque.Force.method\"            \n",
              "[39] \"Muscle.volume.method_score\"      \"Torque.Force.method_score\"      \n",
              "[41] \"Fascicle.length.method_score\"    \"Pennation.angle.method_score\"   \n",
              "[43] \"PCSA.method_score\"               \"Moment.arm.method_score\"        \n",
              "[45] \"Specific.Tension.method_score\"   \"newScore\"                       \n",
              "[47] \"Covidence..\"                     \"Study.ID\"                       \n",
              "[49] \"Title_y\"                         \"Country\"                        \n",
              "[51] \"Study.design\"                    \"Authors\"                        \n",
              "[53] \"Year\"                            \"Journal\"                        \n",
              "[55] \"aveAge\"                          \"aveHeight\"                      \n",
              "[57] \"aveWeight\"                       \"N\"                              \n",
              "[59] \"aveVol\"                          \"aveFL\"                          \n",
              "[61] \"avePCSA\"                         \"aveTorque\"                      \n",
              "[63] \"aveForce\"                        \"aveST\"                          \n",
              "[65] \"agetype\"                         \"trainingtype\"                   \n",
              "[67] \"muscleName\"                      \"jointType\"                      \n",
              "[69] \"grav\"                            \"jointAction\"                    \n",
              "[71] \"anatomicalLocation\"              \"FastSlow\"                       \n",
              "[73] \"mv_method\"                       \"fl_method\"                      \n",
              "[75] \"pa_method\"                       \"t_method\"                       \n",
              "[77] \"ma_method\"                       \"pcsa_method\"                    \n",
              "[79] \"f_method\"                       "
            ]
          },
          "metadata": {}
        }
      ]
    },
    {
      "cell_type": "code",
      "source": [
        "scored_Data"
      ],
      "metadata": {
        "id": "Peq1L6PMP40v"
      },
      "execution_count": null,
      "outputs": []
    },
    {
      "cell_type": "markdown",
      "source": [
        "# create Methods df"
      ],
      "metadata": {
        "id": "yjvZfH3KyDaZ"
      }
    },
    {
      "cell_type": "code",
      "source": [
        "scored_Data <- read.csv(\"Plotdata_scored.csv\")\n",
        "llm_data<-read_excel(\"/content/zephyr-7b-alpha-Q5_K_M.xlsx\")\n",
        "column_name_str <- \"\n",
        "         aveAge = 'aveAge..years.',\n",
        "         aveHeight = 'aveHeight..cm.',\n",
        "         aveWeight = 'aveWeight..kg.',\n",
        "         N = 'X.Number.of.subjects..N',\n",
        "         aveVol = 'aveVol..cm3.',\n",
        "         aveFL = 'aveFL..cm.',\n",
        "         avePCSA = 'avePCSA..cm2.',\n",
        "         aveTorque = 'aveTorque..Nm.',\n",
        "         aveForce = 'aveForce..N.',\n",
        "         aveST = 'aveST..N.cm2.',\n",
        "         agetype = 'Age.type',\n",
        "         trainingtype = 'Training.type',\n",
        "         muscleName = 'name',\n",
        "         jointType = 'Joint.type',\n",
        "         grav = 'antigrav.grav',\n",
        "         jointAction = 'Joint.action',\n",
        "         anatomicalLocation = 'anatomical.location',\n",
        "         FastSlow = 'fast.slow',\n",
        "         Score = 'Score',\n",
        "         mv_method = 'Muscle.volume.method',\n",
        "         fl_method = 'Fascicle.length.method',\n",
        "         pa_method = 'Pennation.angle.method',\n",
        "         t_method = 'Torque.method',\n",
        "         ma_method = 'Moment.arm.method',\n",
        "         pcsa_method = 'PCSA.method',\n",
        "         f_method = 'Force.method'\"\n",
        "\n",
        "# Convert the string to a named character vector\n",
        "column_names <- setNames(strsplit(gsub(\"'\", \"\", column_name_str), \",\\\\s*\")[[1]], NULL)\n",
        "\n",
        "# Change column names using a loop\n",
        "for (old_name in names(column_names)) {\n",
        "  colnames(scored_Data)[colnames(scored_Data) == old_name] <- column_names[old_name]\n",
        "}"
      ],
      "metadata": {
        "id": "FbGkW910yGm9"
      },
      "execution_count": null,
      "outputs": []
    },
    {
      "cell_type": "code",
      "source": [
        "scored_Data <- scored_Data %>% distinct(`CovidenceID`, `newScore`, .keep_all = TRUE)"
      ],
      "metadata": {
        "colab": {
          "base_uri": "https://localhost:8080/",
          "height": 108
        },
        "id": "xTjarYCAyzyl",
        "outputId": "139639d1-b709-4710-edc8-0c4ad50beacc"
      },
      "execution_count": null,
      "outputs": [
        {
          "output_type": "error",
          "ename": "ERROR",
          "evalue": "Error in scored_Data %>% distinct(CovidenceID, newScore, .keep_all = TRUE): could not find function \"%>%\"\n",
          "traceback": [
            "Error in scored_Data %>% distinct(CovidenceID, newScore, .keep_all = TRUE): could not find function \"%>%\"\nTraceback:\n"
          ]
        }
      ]
    }
  ]
}